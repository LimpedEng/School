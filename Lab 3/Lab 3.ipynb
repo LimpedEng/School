{
 "cells": [
  {
   "cell_type": "markdown",
   "id": "abfb9ed7-bb94-48c3-88f0-6693f26b3f7c",
   "metadata": {},
   "source": [
    "# Lab 3 - Files\n"
   ]
  },
  {
   "cell_type": "markdown",
   "id": "5dd841b5-4e31-428c-a56b-5a74f1aa8c75",
   "metadata": {},
   "source": [
    "## Warm-up \n",
    "Using the file Car.txt found in lecture canvas page.\n",
    "Part 1:\n",
    "Write a function that can open a file. Read its output and save it to a list. (look at lecture notes if you need help)\n",
    "\n",
    "Part 2: \n",
    "Using a function that at minimum takes a list and outputs desired information to a file.  (do not use rstrip for this.\n",
    "\n",
    "For example \n",
    "```python\n",
    "def foo (bar, user_string):\n",
    "    if user_string in bar:\n",
    "        # save the file here\n",
    "```\n",
    "\n"
   ]
  },
  {
   "cell_type": "code",
   "execution_count": 1,
   "id": "9916dca4-e082-47ba-957a-d285cd0abce0",
   "metadata": {},
   "outputs": [],
   "source": [
    "# Code goes here\n"
   ]
  },
  {
   "cell_type": "markdown",
   "id": "bc4fbb46-483b-479b-97d5-82e2dc7f4346",
   "metadata": {
    "tags": []
   },
   "source": [
    "# Main Lab\n",
    "\n",
    "Begin working with your partner on your project. Begin to plan out how you would like your game to feel. Remember this is a text-based game. This can be any game you would like (RPG is the easiest to understand but you can do any type of game please stay away from games like poker or 21 as these tend to be boring to code and hard to expand on, and obviously games that may get you reported by the university)\n",
    "\n",
    "\n",
    "## Part 1:\n",
    "Create class' for your game: You may use  paper and pencil or a planning tool to begin to plan the overall scope of your game. You will be required to turn in a planning tool output next week. (You may use whatever tool you desire) \n",
    "\n",
    "Create a Flow diagram of your game and how you would like it to play. Keep it simple.\n",
    "\n",
    "This is due before you leave the class today. It does not need to be your final version. \n",
    "\n",
    "\n",
    "## Part 2:\n",
    "Start writing the code\n",
    "\n",
    "keep in mind that when you write your code you will need to be loading in your player and tools/items/etc. So plan acordingly.\n",
    "\n",
    "Here is an example:\n",
    "```python \n",
    "class Sharps(object):\n",
    "    \"\"\"Create a sharp weapon\"\"\"\n",
    "    def __init__(self, name, length, age, damage):\n",
    "        \"\"\" Initialize name, age, and length damage attributes.\"\"\"\n",
    "        self.name = name\n",
    "        self.age = age\n",
    "        self.length = length\n",
    "        self.damage = damage\n",
    "    def do_damage(self, target):\n",
    "        target = target - self.damage\n",
    "\n",
    "class dager(Sharps):\n",
    "    \"\"\" makes a dager\"\"\"\n",
    "    def __init__(self, self, name, length, age, damage):\n",
    "        \"\"\"sets up a dagger\"\"\"\n",
    "        super().__init__(self, name, length, age, damage))\n",
    "        self.poision = True\n",
    "```\n",
    "        \n",
    "\n"
   ]
  },
  {
   "cell_type": "code",
   "execution_count": 24,
   "id": "77383996-1f69-4973-989b-ef6d1004c23e",
   "metadata": {},
   "outputs": [
    {
     "name": "stdout",
     "output_type": "stream",
     "text": [
      "Knight receives 7 damage.\n"
     ]
    },
    {
     "ename": "NameError",
     "evalue": "name 'dmg_dealt' is not defined",
     "output_type": "error",
     "traceback": [
      "\u001b[1;31m---------------------------------------------------------------------------\u001b[0m",
      "\u001b[1;31mNameError\u001b[0m                                 Traceback (most recent call last)",
      "Cell \u001b[1;32mIn[24], line 49\u001b[0m\n\u001b[0;32m     42\u001b[0m Priest \u001b[38;5;241m=\u001b[39m Character(\u001b[38;5;124m\"\u001b[39m\u001b[38;5;124mPriest\u001b[39m\u001b[38;5;124m\"\u001b[39m, \u001b[38;5;241m125\u001b[39m, \u001b[38;5;124m\"\u001b[39m\u001b[38;5;124mWand\u001b[39m\u001b[38;5;124m\"\u001b[39m, \u001b[38;5;241m5\u001b[39m)\n\u001b[0;32m     43\u001b[0m \u001b[38;5;66;03m#Knight = Knight(100, 1, 5)\u001b[39;00m\n\u001b[0;32m     44\u001b[0m \u001b[38;5;66;03m#Wizard = Wizard(100, 1, 5)\u001b[39;00m\n\u001b[0;32m     45\u001b[0m \u001b[38;5;66;03m#Priest = Priest(100, 1, 5)\u001b[39;00m\n\u001b[0;32m     46\u001b[0m \n\u001b[0;32m     47\u001b[0m \u001b[38;5;66;03m#Knight = Inventory(10)\u001b[39;00m\n\u001b[1;32m---> 49\u001b[0m Knight\u001b[38;5;241m.\u001b[39mattack(Priest)\n",
      "Cell \u001b[1;32mIn[24], line 26\u001b[0m, in \u001b[0;36mCharacter.attack\u001b[1;34m(self, target)\u001b[0m\n\u001b[0;32m     24\u001b[0m \u001b[38;5;28mprint\u001b[39m(\u001b[38;5;28mself\u001b[39m\u001b[38;5;241m.\u001b[39mname, \u001b[38;5;124m\"\u001b[39m\u001b[38;5;124mreceives\u001b[39m\u001b[38;5;124m\"\u001b[39m, \u001b[38;5;28mself\u001b[39m\u001b[38;5;241m.\u001b[39mdamage, \u001b[38;5;124m\"\u001b[39m\u001b[38;5;124mdamage.\u001b[39m\u001b[38;5;124m\"\u001b[39m)\n\u001b[0;32m     25\u001b[0m target\u001b[38;5;241m.\u001b[39mdmg_dealt(\u001b[38;5;28mself\u001b[39m\u001b[38;5;241m.\u001b[39mdamage)\n\u001b[1;32m---> 26\u001b[0m \u001b[38;5;28mprint\u001b[39m(\u001b[38;5;124m\"\u001b[39m\u001b[38;5;124mDamage dealt:\u001b[39m\u001b[38;5;124m\"\u001b[39m, dmg_dealt())\n",
      "\u001b[1;31mNameError\u001b[0m: name 'dmg_dealt' is not defined"
     ]
    }
   ],
   "source": [
    "## import json\n",
    "import random\n",
    "#Player = print(input(\"Choose your class:\\n1) Knight\\n2) Wizard\\n3) Priest\\n>\"))\n",
    "def Dice_Numbers(): #Whenever function is called, it will always be randomized regardlessly\n",
    "    Dice_List = []\n",
    "    Total = 0\n",
    "    for i in range(3):\n",
    "        i = Dice_List.append(random.randint(1,6))\n",
    "    for num in range(0, len(Dice_List)):\n",
    "        Total += Dice_List[num]\n",
    "    return Total\n",
    "#Total_1 = Dice_Numbers()\n",
    "\n",
    "class Character():\n",
    "    \"\"\"Default player & damage stats for creation or as set\"\"\"\n",
    "    def __init__(self, name, health, weapon, damage): #All class stats\n",
    "        self.name = name\n",
    "        self.health = health\n",
    "        self.weapon = weapon\n",
    "        self.damage = damage\n",
    "        self.backpack = Inventory\n",
    "    def attack(self, target): #Damage is based on Dice_Numbers where luck (critical dmg) is involved\n",
    "        self.damage = Dice_Numbers()\n",
    "        print(self.name, \"receives\", self.damage, \"damage.\")\n",
    "        target.dmg_dealt(self.damage)\n",
    "        print(\"Damage dealt:\", dmg_dealt)\n",
    "    def dmg_dealt(self, damage):\n",
    "        self.health -= damage\n",
    "\n",
    "class Inventory(Character):\n",
    "    \"\"\"Creates a child class for inventory, for player to store items which will be defined\"\"\"\n",
    "    def __init__(self, slots):\n",
    "        self.slots = slots\n",
    "        self.items = {}\n",
    "    def Remove(self, items):\n",
    "        self.items = input()\n",
    "        print(\"Your backpack has\", backpack, \"slots.\")\n",
    "        \n",
    "#Below will create the stats and weapon type for the classes\n",
    "Knight = Character(\"Knight\", 150, \"Sword\", 15)\n",
    "Wizard = Character(\"Wizard\", 125, \"Staff\", 15)\n",
    "Priest = Character(\"Priest\", 125, \"Wand\", 5)\n",
    "#Knight = Knight(100, 1, 5)\n",
    "#Wizard = Wizard(100, 1, 5)\n",
    "#Priest = Priest(100, 1, 5)\n",
    "\n",
    "#Knight = Inventory(10)\n",
    "\n",
    "Knight.attack(Priest)\n"
   ]
  },
  {
   "cell_type": "markdown",
   "id": "d4e72f89-2f00-4359-8dd7-3ee537833e4a",
   "metadata": {},
   "source": [
    "## Part 3: \n",
    "\n",
    "Create a list of objects that you will be using in your game and store that information in JSON format. \n",
    "You do not need to code this but you will need a file with a starting list of all the assets needed to play your game. "
   ]
  },
  {
   "cell_type": "code",
   "execution_count": 14,
   "id": "da53e9a1-a30f-4289-9cbf-16a5c76acc6e",
   "metadata": {
    "tags": []
   },
   "outputs": [
    {
     "name": "stdin",
     "output_type": "stream",
     "text": [
      "Insert your name:\n",
      ">  Doug\n",
      "Choose your class: Knight, Wizard\n",
      ">  Knight\n",
      "Insert weapon:\n",
      ">  Sword of the Slain Beast\n"
     ]
    }
   ],
   "source": [
    "import random\n",
    "import json\n",
    "#Player = print(input(\"Choose your class:\\n1) Knight\\n2) Wizard\\n3) Priest\\n>\"))\n",
    "def Rand_Num(): #Whenever function is called, it will always be randomized regardlessly\n",
    "    Dice_List = []\n",
    "    Total = 0\n",
    "    for i in range(3):\n",
    "        i = Dice_List.append(random.randint(1,6))\n",
    "    for num in range(0, len(Dice_List)):\n",
    "        Total += Dice_List[num]\n",
    "    return Total\n",
    "\n",
    "class Character(object):\n",
    "    def __init__(self, name, ClassType, Weapons, damage):#, health, damage, armor, ability, space):\n",
    "        self.name = Name\n",
    "        self.ClassType = ClassType\n",
    "        self.weapon = Weapons\n",
    "        #self.health = health\n",
    "        self.damage = damage\n",
    "        #self.space = space\n",
    "        \n",
    "        if (ClassType == 'knight') or (ClassType == 'Knight'):\n",
    "            self.health = 150\n",
    "            self.damage = 15\n",
    "            self.weapon = Weapons\n",
    "            self.armor = 'Heavy'\n",
    "            self.ability = 'Mithril'\n",
    "            self.space = {\"weapon\": {self.weapon}, }\n",
    "        elif (ClassType == 'wizard') or ('Wizard'):\n",
    "            self.health = 125\n",
    "            self.damage = 20\n",
    "            self.weapon = 'Staff'\n",
    "            self.armor = 'Robe'\n",
    "            self.ability = 'Spell Book'\n",
    "            self.space = {}\n",
    "        else:\n",
    "            #Player becomes hooman\n",
    "            self.health = 100\n",
    "            self.damage = 5\n",
    "            self.armor = None\n",
    "            self.ability = 'Chad'\n",
    "            self.space = {}\n",
    "\n",
    "class Inventory(Character):\n",
    "    \"\"\"Creates inventory for player class\"\"\"\n",
    "    def __init__(self, space):\n",
    "        super().__init__(space)\n",
    "        self.space += 1\n",
    "class Knight(Character):\n",
    "    \"\"\"Knight properties\"\"\"\n",
    "    def __init__(self, health, damage, armor, ability, space):\n",
    "        super().__init__(health, damage, space)\n",
    "        self.health += 10\n",
    "        self.damage += 5\n",
    "        \n",
    "class Enemy(object):\n",
    "    \"\"\"Enemy player goes up against\"\"\"\n",
    "    def __init__(self, health, damage):\n",
    "        self.health = 250\n",
    "        self.damage = damage\n",
    "Name = input(\"Insert your name:\\n> \")\n",
    "ClassType = (input(\"Choose your class: Knight, Wizard\\n> \"))\n",
    "Weapons = input(\"Insert weapon:\\n> \")\n",
    "Player = Character(Name, ClassType, Weapons, damage = None) #, health = None, damage = None, armor = None, ability = None, space = None)\n"
   ]
  },
  {
   "cell_type": "code",
   "execution_count": 17,
   "id": "a274b660-a545-43d8-9e75-7e70103f74a3",
   "metadata": {
    "tags": []
   },
   "outputs": [
    {
     "data": {
      "text/plain": [
       "150"
      ]
     },
     "execution_count": 17,
     "metadata": {},
     "output_type": "execute_result"
    }
   ],
   "source": [
    "Player.ClassType\n",
    "Player.weapon\n",
    "Player.health\n",
    "\n"
   ]
  },
  {
   "cell_type": "raw",
   "id": "5c189f72-742a-4368-9411-0f11148c221c",
   "metadata": {},
   "source": []
  },
  {
   "cell_type": "raw",
   "id": "d0d16a05-d541-4239-8635-71f076a9207c",
   "metadata": {},
   "source": []
  },
  {
   "cell_type": "code",
   "execution_count": 52,
   "id": "8817c08b-2061-4429-9812-3f24e4041695",
   "metadata": {},
   "outputs": [
    {
     "name": "stdout",
     "output_type": "stream",
     "text": [
      "Input Items:\n"
     ]
    },
    {
     "name": "stdin",
     "output_type": "stream",
     "text": [
      "> Hp\n",
      "> Mp\n",
      "> Dog\n"
     ]
    },
    {
     "name": "stdout",
     "output_type": "stream",
     "text": [
      "Will be written into JSON:\n",
      " ['Dog', 'Hp', 'Mp']\n"
     ]
    }
   ],
   "source": [
    "#Writes into JSON file\n",
    "Items = []\n",
    "print(\"Input Items:\")\n",
    "for i in range(3):\n",
    "    Items.append(input(\">\"))\n",
    "x = sorted(Items)\n",
    "print(\"Will be written into JSON:\\n\", x)"
   ]
  },
  {
   "cell_type": "code",
   "execution_count": 78,
   "id": "612fa048-9c74-469f-b835-5e548ad6315e",
   "metadata": {},
   "outputs": [],
   "source": [
    "#Creates JSON file and stores x (Weapon) into file\n",
    "import json\n",
    "with open('Items.json', 'w') as f:\n",
    "    json.dump(x, f)"
   ]
  },
  {
   "cell_type": "code",
   "execution_count": 79,
   "id": "89ccfe64-7993-4fd3-967c-d368e0f9fd2e",
   "metadata": {
    "tags": []
   },
   "outputs": [
    {
     "name": "stdout",
     "output_type": "stream",
     "text": [
      "[\n",
      "  \"HP pot\",\n",
      "  \"MP pot\",\n",
      "  \"Str pot\"\n",
      "]\n"
     ]
    }
   ],
   "source": [
    "#Reads & print out file with 2 indentations\n",
    "with open('Items.json', \"r\") as file:\n",
    "    data = json.load(file)\n",
    "print(json.dumps(data, indent = 2))"
   ]
  },
  {
   "cell_type": "code",
   "execution_count": 80,
   "id": "e7510340-850d-4bad-aac8-b9d8f0a0a824",
   "metadata": {
    "tags": []
   },
   "outputs": [
    {
     "name": "stdout",
     "output_type": "stream",
     "text": [
      "Add 1 More item:\n",
      "\n"
     ]
    },
    {
     "name": "stdin",
     "output_type": "stream",
     "text": [
      " FR pot\n"
     ]
    },
    {
     "name": "stdout",
     "output_type": "stream",
     "text": [
      "[\n",
      "  \"HP pot\",\n",
      "  \"MP pot\",\n",
      "  \"Str pot\",\n",
      "  \"FR pot\"\n",
      "]\n"
     ]
    }
   ],
   "source": [
    "#Allows user to insert additional item\n",
    "print(\"Add 1 More item:\\n\")\n",
    "data.append(input())\n",
    "print(json.dumps(data, indent = 2))\n",
    "with open('Items.json', \"w\") as file:\n",
    "    json.dump(data, file)"
   ]
  },
  {
   "cell_type": "code",
   "execution_count": 81,
   "id": "6696c2d1-ec81-4bd1-9842-fe67fafd1523",
   "metadata": {
    "tags": []
   },
   "outputs": [
    {
     "name": "stdout",
     "output_type": "stream",
     "text": [
      "[\n",
      "  \"HP pot\",\n",
      "  \"MP pot\",\n",
      "  \"Str pot\",\n",
      "  \"FR pot\"\n",
      "]\n",
      "Item wish to consume:\n",
      "\n"
     ]
    },
    {
     "name": "stdin",
     "output_type": "stream",
     "text": [
      " HP pot\n"
     ]
    },
    {
     "name": "stdout",
     "output_type": "stream",
     "text": [
      "[\n",
      "  \"MP pot\",\n",
      "  \"Str pot\",\n",
      "  \"FR pot\"\n",
      "]\n"
     ]
    }
   ],
   "source": [
    "#Reads & write into file while removing specific item\n",
    "with open('Items.json', \"r+\") as file:\n",
    "    json.dump(data, file)\n",
    "    print(json.dumps(data, indent = 2))\n",
    "    print(\"Item wish to consume:\\n\")\n",
    "    data.remove(str(input()))\n",
    "    \n",
    "#with open('Weapons.json', \"r\") as file:\n",
    "#    data = sorted(json.load(file))\n",
    "\n",
    "print(json.dumps(data, indent = 2))"
   ]
  },
  {
   "cell_type": "code",
   "execution_count": 5,
   "id": "6d415a2b-e69b-4ca0-bc77-3b5fefef1226",
   "metadata": {
    "tags": []
   },
   "outputs": [
    {
     "name": "stdin",
     "output_type": "stream",
     "text": [
      "Choose weapon: Knife, Dog\n",
      ">  Dog\n",
      "Choose item: Mana, Health Pot\n",
      ">  Mana\n"
     ]
    }
   ],
   "source": [
    "import json\n",
    "class Test(object):\n",
    "    def __init__(self, weapon, items):\n",
    "        self.weapon = x\n",
    "        self.items = items\n",
    "\n",
    "xy = {\"weapon\": input(\"Choose weapon: Knife, Dog\\n> \"), \"items\": input(\"Choose item: Mana, Health Pot\\n> \")}\n",
    "\n",
    "with open('test.json', 'w') as file:\n",
    "    json.dump(xy, file)"
   ]
  },
  {
   "cell_type": "code",
   "execution_count": 6,
   "id": "8b8161c2-5501-4d7d-b19c-5d5a4979857b",
   "metadata": {
    "tags": []
   },
   "outputs": [
    {
     "name": "stdout",
     "output_type": "stream",
     "text": [
      "{\n",
      "  \"weapon\": \"Dog\",\n",
      "  \"items\": \"Mana\"\n",
      "}\n"
     ]
    }
   ],
   "source": [
    "with open('test.json', \"r\") as file:\n",
    "    data = json.load(file)\n",
    "    print(json.dumps(data, indent = 2))"
   ]
  },
  {
   "cell_type": "code",
   "execution_count": 7,
   "id": "81ed11bd-8c10-4b89-b35e-3fa161dd18a3",
   "metadata": {
    "tags": []
   },
   "outputs": [
    {
     "name": "stdout",
     "output_type": "stream",
     "text": [
      "\"Dog\"\n"
     ]
    }
   ],
   "source": [
    "x = json.dumps(data['weapon'])\n",
    "print(x)"
   ]
  },
  {
   "cell_type": "code",
   "execution_count": 8,
   "id": "31a1d021-117a-4b03-8d0d-831e73ad80ee",
   "metadata": {
    "tags": []
   },
   "outputs": [
    {
     "data": {
      "text/plain": [
       "'\"Dog\"'"
      ]
     },
     "execution_count": 8,
     "metadata": {},
     "output_type": "execute_result"
    }
   ],
   "source": [
    "Test = Test(x, items = None)\n",
    "Test.weapon"
   ]
  },
  {
   "cell_type": "code",
   "execution_count": 19,
   "id": "68025bd0-7cc2-4442-9fb2-979ca8ea3c35",
   "metadata": {
    "tags": []
   },
   "outputs": [
    {
     "name": "stdin",
     "output_type": "stream",
     "text": [
      "Insert your name:\n",
      ">  Doug\n",
      "Choose your class: Knight, Wizard\n",
      ">  wizard\n",
      "Insert weapon:\n",
      ">  Stave\n"
     ]
    }
   ],
   "source": [
    "import json\n",
    "#Player = print(input(\"Choose your class:\\n1) Knight\\n2) Wizard\\n3) Priest\\n>\"))\n",
    "def Rand_Num(): #Whenever function is called, it will always be randomized regardlessly\n",
    "    Dice_List = []\n",
    "    Total = 0\n",
    "    for i in range(3):\n",
    "        i = Dice_List.append(random.randint(1,6))\n",
    "    for num in range(0, len(Dice_List)):\n",
    "        Total += Dice_List[num]\n",
    "    return Total\n",
    "\n",
    "class Character(object):\n",
    "    def __init__(self, name, ClassType, Weapons, damage):#, health, damage, armor, ability, space):\n",
    "        self.name = Name\n",
    "        self.ClassType = ClassType\n",
    "        self.weapon = Weapons\n",
    "        #self.health = health\n",
    "        self.damage = damage\n",
    "        #self.space = space\n",
    "        \n",
    "        if (ClassType == 'knight') or (ClassType == 'Knight'):\n",
    "            self.health = 150\n",
    "            self.damage = 15\n",
    "            self.weapon = Weapons\n",
    "            self.armor = 'Heavy'\n",
    "            self.ability = 'Mithril'\n",
    "            self.space = {\"weapon\": {self.weapon}, }\n",
    "        elif (ClassType == 'wizard') or ('Wizard'):\n",
    "            self.health = 125\n",
    "            self.damage = 20\n",
    "            self.weapon = Weapons\n",
    "            self.armor = 'Robe'\n",
    "            self.ability = 'Spell Book'\n",
    "            self.space = {\"weapon\": {self.weapon}, }\n",
    "        else:\n",
    "            #Player becomes hooman\n",
    "            self.health = 100\n",
    "            self.damage = 5\n",
    "            self.armor = None\n",
    "            self.ability = 'Chad'\n",
    "            self.space = {}\n",
    "\n",
    "class Inventory(Character):\n",
    "    \"\"\"Creates inventory for player class\"\"\"\n",
    "    def __init__(self, space):\n",
    "        super().__init__(space)\n",
    "        self.space += 1\n",
    "class Knight(Character):\n",
    "    \"\"\"Knight properties\"\"\"\n",
    "    def __init__(self, health, damage, armor, ability, space):\n",
    "        super().__init__(health, damage, space)\n",
    "        self.health += 10\n",
    "        self.damage += 5\n",
    "        \n",
    "class Enemy(object):\n",
    "    \"\"\"Enemy player goes up against\"\"\"\n",
    "    def __init__(self, health, damage):\n",
    "        self.health = 250\n",
    "        self.damage = damage\n",
    "Name = input(\"Insert your name:\\n> \")\n",
    "ClassType = (input(\"Choose your class: Knight, Wizard\\n> \"))\n",
    "Weapons = input(\"Insert weapon:\\n> \")\n",
    "Player = Character(Name, ClassType, Weapons, damage = None) #, health = None, damage = None, armor = None, ability = None, space = None)"
   ]
  },
  {
   "cell_type": "code",
   "execution_count": 18,
   "id": "4fcb51c2-e9ea-4e2e-b40a-3d0a89f510e9",
   "metadata": {
    "tags": []
   },
   "outputs": [
    {
     "name": "stdout",
     "output_type": "stream",
     "text": [
      "Ah, a long awaited traveller to save us from the beast.\n"
     ]
    },
    {
     "name": "stdin",
     "output_type": "stream",
     "text": [
      "Who are you, young lad?\n",
      ">  Sava\n"
     ]
    },
    {
     "name": "stdout",
     "output_type": "stream",
     "text": [
      "Oh Sava, we have heard about you! Come and get yourself familiar.\n",
      "I am sure you are aware that there has been a beast attacking our village.\n",
      "We need you to go into the cave and kill that beast!\n"
     ]
    },
    {
     "name": "stdin",
     "output_type": "stream",
     "text": [
      "Will you go to the caves and slay the beast?\n",
      ">  n\n"
     ]
    },
    {
     "name": "stdout",
     "output_type": "stream",
     "text": [
      "Qualified or not, you are going to slay the beast! GOOOO!\n",
      "Since you are going. You never really told us what you are?\n"
     ]
    },
    {
     "ename": "AttributeError",
     "evalue": "'str' object has no attribute 'health'",
     "output_type": "error",
     "traceback": [
      "\u001b[1;31m---------------------------------------------------------------------------\u001b[0m",
      "\u001b[1;31mAttributeError\u001b[0m                            Traceback (most recent call last)",
      "Cell \u001b[1;32mIn[18], line 16\u001b[0m\n\u001b[0;32m     12\u001b[0m     \u001b[38;5;28mprint\u001b[39m(\u001b[38;5;124m\"\u001b[39m\u001b[38;5;124mQualified or not, you are going to slay the beast! GOOOO!\u001b[39m\u001b[38;5;124m\"\u001b[39m)\n\u001b[0;32m     14\u001b[0m \u001b[38;5;28mprint\u001b[39m(\u001b[38;5;124m\"\u001b[39m\u001b[38;5;124mSince you are going. You never really told us what you are?\u001b[39m\u001b[38;5;124m\"\u001b[39m)\n\u001b[1;32m---> 16\u001b[0m Player\u001b[38;5;241m.\u001b[39mhealth\n",
      "\u001b[1;31mAttributeError\u001b[0m: 'str' object has no attribute 'health'"
     ]
    }
   ],
   "source": [
    "print(\"Ah, a long awaited traveller to save us from the beast.\")\n",
    "Player = str(input(\"Who are you, young lad?\\n> \"))\n",
    "print(\"Oh \"+ Player + \", we have heard about you! Come and get yourself familiar.\")\n",
    "print(\"I am sure you are aware that there has been a beast attacking our village.\")\n",
    "print(\"We need you to go into the cave and kill that beast!\")\n",
    "\n",
    "Player_YN = input(\"Will you go to the caves and slay the beast?\\n> \")\n",
    "\n",
    "if (Player_YN == 'y') or (Player_YN == 'yes') or (Player_YN == 'Yes'):\n",
    "    print(\"You are perfect for the job.\")\n",
    "elif (Player_YN == 'n') or (Player_YN == 'no') or (Player_YN == 'No'):\n",
    "    print(\"Qualified or not, you are going to slay the beast! GOOOO!\")\n",
    "\n",
    "print(\"Since you are going. You never really told us what you are?\")\n",
    "\n"
   ]
  }
 ],
 "metadata": {
  "kernelspec": {
   "display_name": "Python 3 (ipykernel)",
   "language": "python",
   "name": "python3"
  },
  "language_info": {
   "codemirror_mode": {
    "name": "ipython",
    "version": 3
   },
   "file_extension": ".py",
   "mimetype": "text/x-python",
   "name": "python",
   "nbconvert_exporter": "python",
   "pygments_lexer": "ipython3",
   "version": "3.11.5"
  }
 },
 "nbformat": 4,
 "nbformat_minor": 5
}
