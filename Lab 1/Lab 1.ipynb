{
 "cells": [
  {
   "cell_type": "markdown",
   "id": "8bc05ced-f06f-4aa2-8a94-d84be47ab29b",
   "metadata": {
    "tags": []
   },
   "source": [
    "#### import random\n",
    "Game = random.randint(1,9)\n",
    "Number = int(input(\"Enter number between 1 - 9:\\n> \"))\n",
    "if Number != Game:\n",
    "    print(\"Try Again\")\n",
    "    print(Game)\n",
    "elif Number == Game:\n",
    "    print(\"Correct\")\n",
    "    print(Game)"
   ]
  },
  {
   "cell_type": "code",
   "execution_count": null,
   "id": "b5dc1bf7-d032-42ec-a262-b8b995d04592",
   "metadata": {},
   "outputs": [],
   "source": [
    "#Guessing Game\n",
    "import random\n",
    "Game = random.randint(1,9)\n",
    "\n",
    "while Number != Game:\n",
    "    Number = int(input(\"Enter number between 1 - 9:\\n> \"))\n",
    "    if Number > 9:\n",
    "        print(\"Numbers 1 - 9 only\")\n",
    "    elif Number == Game:\n",
    "        print(\"Number is: \",Game)\n",
    "        print(\"Correct\")\n",
    "    elif Number != Game:\n",
    "        print(\"Redo\")"
   ]
  },
  {
   "cell_type": "code",
   "execution_count": null,
   "id": "ce7b7c24-7625-4f71-a621-36031196b69c",
   "metadata": {},
   "outputs": [],
   "source": [
    "# Dice Game\n",
    "import random\n",
    "import time\n",
    "Dice_List = []\n",
    "stats = 0\n",
    "stats = []\n",
    "Total = 0\n",
    "for i in range(0,5):\n",
    "    i = random.randint(1,6)\n",
    "    Dice_List.append(i)\n",
    "\n",
    "#print(Dice_List)\n",
    "for num in range(0, len(Dice_List)):\n",
    "    Total = Total + Dice_List[num]\n",
    "    \n",
    "#print(\"sum = \", Total)\n",
    "active = True\n",
    "while active:\n",
    "    Player = int(input(\"Enter a number (1 - 30):\\n> \"))\n",
    "    print(\"Dice is rolling...\")\n",
    "    time.sleep(2)\n",
    "    if Player > 30:\n",
    "        print(\"Value must be between 1 - 30.\")\n",
    "        \n",
    "    elif Player >= Total:\n",
    "        print(\"Congratulation, you win!\")\n",
    "        print(Player, \">\", Total)\n",
    "        \n",
    "        active = False\n",
    "    elif Player <= Total:\n",
    "        print(\"Womp Womp, you lose!\")\n",
    "        print(Player, \"<\", Total)\n",
    "        active = False\n",
    "    else:\n",
    "        print(\"Error 404\")\n",
    "        print(Player, \"=\", Total)\n",
    "        active = False"
   ]
  }
 ],
 "metadata": {
  "kernelspec": {
   "display_name": "Python 3 (ipykernel)",
   "language": "python",
   "name": "python3"
  },
  "language_info": {
   "codemirror_mode": {
    "name": "ipython",
    "version": 3
   },
   "file_extension": ".py",
   "mimetype": "text/x-python",
   "name": "python",
   "nbconvert_exporter": "python",
   "pygments_lexer": "ipython3",
   "version": "3.11.5"
  }
 },
 "nbformat": 4,
 "nbformat_minor": 5
}
