{
 "cells": [
  {
   "cell_type": "code",
   "execution_count": 36,
   "id": "113d383d-a860-4db3-a1cf-f26aed21e21c",
   "metadata": {
    "tags": []
   },
   "outputs": [],
   "source": [
    "\"\"\"SAVA VISARL LAB 3\"\"\"\n",
    "\n",
    "import json\n",
    "import random\n",
    "import sys\n",
    "\n",
    "def Rand_Num(): #Whenever function is called, it will always be randomized regardlessly\n",
    "    Dice_List = []\n",
    "    Total = 0\n",
    "    for i in range(3):\n",
    "        i = Dice_List.append(random.randint(1,6))\n",
    "    for num in range(0, len(Dice_List)):\n",
    "        Total += Dice_List[num]\n",
    "    return Total\n",
    "\n",
    "class Character(object):\n",
    "    \"\"\"Creates main Character stats, default until selected by user\"\"\"\n",
    "    def __init__(self, name, health, Weapons, damage):#, health, damage, armor, ability, space):\n",
    "        self.name = Name\n",
    "        self.klass = Class\n",
    "        self.weapon = Weapons\n",
    "        self.health = health\n",
    "        self.damage = damage\n",
    "class Knight(Character):\n",
    "    \"\"\"Knight properties\"\"\"\n",
    "    def __init__(self, name, health, Weapons, damage):\n",
    "        super().__init__(name, health, Weapons, damage)\n",
    "        self.name = Name\n",
    "        self.health = 150\n",
    "        self.damage = 15\n",
    "        self.weapon = Weapons\n",
    "class Wizard(Character):\n",
    "    \"\"\"Wizard properties\"\"\"\n",
    "    def __init__(self, name, health, Weapons, damage):\n",
    "        super().__init__(name, health, Weapons, damage)\n",
    "        self.name = Name\n",
    "        self.health = 125\n",
    "        self.damage = 20\n",
    "        self.weapon = Weapons\n",
    "class Hooman(Character):\n",
    "    \"\"\"Hooman properties\"\"\"\n",
    "    def __init__(self, name, health, Weapons, damage):\n",
    "        super().__init__(name, health, Weapons, damage)\n",
    "        self.name = Name\n",
    "        self.health = health\n",
    "        self.damage = damage\n",
    "        self.weapon = 'Fists'\n",
    "class Enemy(Character):\n",
    "    \"\"\"Enemy that the player goes up against\"\"\"\n",
    "    def __init__(self, name, health, damage, weapon):\n",
    "        self.health = 250\n",
    "        self.damage = damage\n",
    "        self.name = 'Gorlock the Destroyer'\n",
    "        self.weapon = 'Club'\n",
    "        \n"
   ]
  },
  {
   "cell_type": "code",
   "execution_count": 33,
   "id": "0876e387-89f9-4541-bf19-37adc1522d0e",
   "metadata": {
    "tags": []
   },
   "outputs": [
    {
     "name": "stdout",
     "output_type": "stream",
     "text": [
      "Ah, a long awaited traveller to save us from the beast.\n"
     ]
    },
    {
     "name": "stdin",
     "output_type": "stream",
     "text": [
      "Who are you, young lad?\n",
      ">  +++\n"
     ]
    },
    {
     "name": "stdout",
     "output_type": "stream",
     "text": [
      "Oh +++, we have heard about you! Come and get yourself familiar.\n",
      "I am sure you are aware that there has been a beast attacking our village.\n",
      "We need you to go into the cave and slay that beast!\n"
     ]
    },
    {
     "name": "stdin",
     "output_type": "stream",
     "text": [
      "Will you go to the cave and slay the beast?\n",
      "(Yes or No)\n",
      ">  +\n"
     ]
    },
    {
     "name": "stdout",
     "output_type": "stream",
     "text": [
      "Anyways, you are going, but you never really told us what you are?\n"
     ]
    },
    {
     "name": "stdin",
     "output_type": "stream",
     "text": [
      "Choose your class (#):\n",
      "1) Knight\n",
      "2) Wizard\n",
      ">  +\n"
     ]
    },
    {
     "name": "stdout",
     "output_type": "stream",
     "text": [
      "H  O  O  M  A  N  A  C  T  I  V  A  T  E  D  !\n",
      "1\n",
      "2\n",
      "3\n"
     ]
    }
   ],
   "source": [
    "### This cell is for selecting class, weapon, and determining player\n",
    "### Creates a list of weapons into JSON file so that it may be used for weapon selection\n",
    "weaponList = ['Greatsword', 'Longsword', 'Tree Branch', 'Shortsword', 'Cosmic Staff', 'Astral Staff', 'Horror Staff', 'Backyard Stick']\n",
    "\n",
    "with open('Weapons_list.json', 'w') as file:\n",
    "    json.dump(weaponList, file)\n",
    "\n",
    "    \n",
    "print(\"Ah, a long awaited traveller to save us from the beast.\")\n",
    "Name = str(input(\"Who are you, young lad?\\n> \"))\n",
    "print(\"Oh \"+ Name + \", we have heard about you! Come and get yourself familiar.\")\n",
    "print(\"I am sure you are aware that there has been a beast attacking our village.\")\n",
    "print(\"We need you to go into the cave and slay that beast!\")\n",
    "\n",
    "#Player will answer Yes or No, but the game still continues\n",
    "Player_YN = input(\"Will you go to the cave and slay the beast?\\n(Yes or No)\\n> \")\n",
    "\n",
    "if (Player_YN == 'y') or (Player_YN == 'yes') or (Player_YN == 'Yes'):\n",
    "    print(\"You are perfect for the job.\")\n",
    "elif (Player_YN == 'n') or (Player_YN == 'no') or (Player_YN == 'No'):\n",
    "    print(\"Qualified or not, you are going to slay the beast!\")\n",
    "    \n",
    "print(\"Anyways, you are going, but you never really told us what you are?\")\n",
    "#User selects class and this will update class\n",
    "ClassType = str(input(\"Choose your class (#):\\n1) Knight\\n2) Wizard\\n> \"))\n",
    "\n",
    "with open('Weapons_list.json', \"r\") as file:\n",
    "    data = json.load(file)\n",
    "\n",
    "\n",
    "if ClassType == '1':\n",
    "    Class = Knight\n",
    "    print(\"Hmm, then where is your sword? Well, we have a collection you can choose from.\")\n",
    "    Weap_Select = input(\"Select weapon (#):\\n1) Greatsword\\n2) Longsword\\n3) Tree Branch\\n4) Shortsword\\n> \")\n",
    "    try:\n",
    "        Select = int(Weap_Select) - 1 ## Used to shift the correction since the list goes 0 - 7\n",
    "        Weapons = data[Select]\n",
    "    except:\n",
    "        Weapons = data[3]\n",
    "    #with open('Player.json', \"w\") as file:\n",
    "    #    json.dump(Weapons, file)\n",
    "    Player = Knight(Name, health, Weapons, damage)\n",
    "    print(\"'You have obtained: \" + Weapons + \"'\")\n",
    "    print(\"Perfect selection,\", str(Player.name) + \". It is a mighty sharp weapon.\")\n",
    "elif ClassType == '2':\n",
    "    Class = Wizard\n",
    "    print(\"Hmm, then where is your staff? Well, we have a collection you can choose from.\")\n",
    "    Weap_Select = input(\"Select weapon (#):\\n1) Cosmic Staff\\n2) Astral Staff\\n3) Horror Staff\\n4) Backyard Stick\\n> \")\n",
    "    try:\n",
    "        Select = int(Weap_Select) + 3\n",
    "        Weapons = data[Select]\n",
    "    except:\n",
    "        Weapons = data[7]\n",
    "    #with open('Player.json', \"w\") as file:\n",
    "    #    json.dump(Weapons, file)\n",
    "    Player = Wizard(Name, health, Weapons, damage)\n",
    "    print(\"'You have obtained: \" + Weapons + \"'\")\n",
    "    print(\"Great selection,\", str(Player.name) + \". You can touch the universe.\")\n",
    "else:\n",
    "    print(\"You are just a villager? The prophecy was a lie then. Anyways...\")\n",
    "    health = Rand_Num() * 10\n",
    "    damage = (Rand_Num() * 2) - 5\n",
    "    Weapons = 'Fists'\n",
    "    Class = Hooman\n",
    "    Player = Hooman(Name, health, Weapons, damage)\n",
    "        \n",
    "with open('Player.json', \"w\") as file:\n",
    "        json.dump(Weapons, file)\n",
    "\n",
    "\n",
    "print(\"1\")\n",
    "print(\"2\")\n",
    "print(\"3\")"
   ]
  },
  {
   "cell_type": "code",
   "execution_count": 32,
   "id": "04445d48-e485-47eb-850a-b8c96a031bd2",
   "metadata": {
    "tags": []
   },
   "outputs": [
    {
     "name": "stdin",
     "output_type": "stream",
     "text": [
      "Select: 0, 1, 2 1\n"
     ]
    },
    {
     "name": "stdout",
     "output_type": "stream",
     "text": [
      "$\n"
     ]
    }
   ],
   "source": [
    "import json\n",
    "tester = ['$', '@', '!']\n",
    "with open('tester.json', 'w') as file:\n",
    "    json.dump(tester, file)\n",
    "with open('tester.json', \"r\") as file:\n",
    "    data = json.load(file)\n",
    "xy = str(input(\"Select: 0, 1, 2\"))\n",
    "\n",
    "if xy == '1':\n",
    "    w = data[0]\n",
    "    print(w)\n",
    "#elif xy == '4':\n",
    " #   w = data[1]\n",
    "  #  print(data[1])\n",
    "else:\n",
    "    w = data[2]\n",
    "    print(data[2])\n",
    "with open('select.json', \"w\") as file:\n",
    "    json.dump(w, file)"
   ]
  },
  {
   "cell_type": "code",
   "execution_count": 37,
   "id": "79bdf52d-f8cf-4813-bf58-edaef3c29daa",
   "metadata": {
    "tags": []
   },
   "outputs": [
    {
     "name": "stdout",
     "output_type": "stream",
     "text": [
      "('Fists', '+++', 70, 15, <class '__main__.Hooman'>)\n"
     ]
    }
   ],
   "source": [
    "print((Player.weapon, Player.name, Player.health, Player.damage, Player.klass))\n",
    "#Prints out the results of the classes"
   ]
  },
  {
   "cell_type": "code",
   "execution_count": 157,
   "id": "af419f50-e26f-4a35-8104-0bcb830d868a",
   "metadata": {
    "tags": []
   },
   "outputs": [
    {
     "name": "stdout",
     "output_type": "stream",
     "text": [
      "93\n"
     ]
    }
   ],
   "source": [
    "#Test for roll dice random damage dealer\n",
    "def Damage():\n",
    "    enemy = 100\n",
    "    dmg_taken = enemy - Rand_Num()\n",
    "    return dmg_taken\n",
    "print(Damage())"
   ]
  },
  {
   "cell_type": "code",
   "execution_count": null,
   "id": "982c4de8-c365-4a4e-88b2-6e833ce72aec",
   "metadata": {},
   "outputs": [],
   "source": []
  },
  {
   "cell_type": "code",
   "execution_count": null,
   "id": "5062a1d8-df77-40d1-bdb0-d628cf725b04",
   "metadata": {},
   "outputs": [],
   "source": []
  }
 ],
 "metadata": {
  "kernelspec": {
   "display_name": "Python 3 (ipykernel)",
   "language": "python",
   "name": "python3"
  },
  "language_info": {
   "codemirror_mode": {
    "name": "ipython",
    "version": 3
   },
   "file_extension": ".py",
   "mimetype": "text/x-python",
   "name": "python",
   "nbconvert_exporter": "python",
   "pygments_lexer": "ipython3",
   "version": "3.11.5"
  }
 },
 "nbformat": 4,
 "nbformat_minor": 5
}
