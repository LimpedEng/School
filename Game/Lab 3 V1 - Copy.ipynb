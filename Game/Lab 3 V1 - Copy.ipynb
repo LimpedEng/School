{
 "cells": [
  {
   "cell_type": "code",
   "execution_count": 77,
   "id": "113d383d-a860-4db3-a1cf-f26aed21e21c",
   "metadata": {
    "tags": []
   },
   "outputs": [],
   "source": [
    "\"\"\"SAVA VISARL LAB 3\"\"\" \"\"\"This lab has been presented 4/15/2024 @ 7:50-ish\"\"\"\n",
    "\"\"\"ORYX the Mad God needs you out of his realm\"\"\"\n",
    "\"\"\"The realm needs a hero and only you, the player, can save the realm\"\"\"\n",
    "\n",
    "import json\n",
    "import random\n",
    "\n",
    "def Rand_Num(): #Whenever function is called, it will always be randomized regardlessly\n",
    "    Dice_List = []\n",
    "    Total = 0\n",
    "    for _ in range(3):\n",
    "        Dice_List.append(random.randint(1,6))\n",
    "    for num in range(0, len(Dice_List)):\n",
    "        Total += Dice_List[num]\n",
    "    return Total\n",
    "\n",
    "class Character(object):\n",
    "    \"\"\"Character defined class, fundamental class sort\"\"\"\n",
    "    def __init__(self, name, health, damage, weapon, Class):\n",
    "        self.name = name\n",
    "        self.health = health\n",
    "        self.damage = damage\n",
    "        self.weapon = weapon\n",
    "        self.class_ = Class\n",
    "    \n",
    "    def dmg_dealt(self, damage):\n",
    "        \"\"\"Damage dealt\"\"\"\n",
    "        self.health -= damage\n",
    "\n",
    "    def attack(self, target, damage):\n",
    "        \"\"\"Attack function\"\"\"\n",
    "        damage = Rand_Num() + self.damage\n",
    "        target.dmg_dealt(damage)\n",
    "    \n",
    "class Knight(Character):\n",
    "    \"\"\"Knight Properties\"\"\"\n",
    "    def __init__(self, name, weapon, Class):\n",
    "        super().__init__(name, health, damage, weapon, Class)\n",
    "        self.health = 150\n",
    "        self.damage = 15\n",
    "        self.weapon = weapon\n",
    "        \n",
    "class Wizard(Character):\n",
    "    \"\"\"Wizard Properties\"\"\"\n",
    "    def __init__(self, name, weapon, Class):\n",
    "        super().__init__(name, health, damage, weapon, Class)\n",
    "        self.health = 125\n",
    "        self.damage = 20\n",
    "        self.weapon = weapon\n",
    "\n",
    "class Hooman(Character):\n",
    "    \"\"\"Creates a Human class if user fails to select class type\"\"\"\n",
    "    def __init__(self, name, health, damage, weapon = 'Fists'):\n",
    "        super().__init__(name, health, damage, weapon, Class = Class)\n",
    "\n",
    "class Enemy(Character):\n",
    "    \"\"\"Creates Enemy Properties\"\"\"\n",
    "    def __init__(self, name , health, damage, weapon):\n",
    "        super().__init__(name, health, damage, weapon, Class = 'Ogre')\n",
    "        self.name = 'Shrek'\n",
    "        self.health = 250\n",
    "        self.damage = Rand_Num()\n",
    "        self.weapon = 'Club'"
   ]
  },
  {
   "cell_type": "code",
   "execution_count": 83,
   "id": "0876e387-89f9-4541-bf19-37adc1522d0e",
   "metadata": {
    "tags": []
   },
   "outputs": [
    {
     "name": "stdout",
     "output_type": "stream",
     "text": [
      "Ah, a long awaited traveller to save us from the beast.\n"
     ]
    },
    {
     "name": "stdin",
     "output_type": "stream",
     "text": [
      "Who are you, young lad?\n",
      ">  s\n"
     ]
    },
    {
     "name": "stdout",
     "output_type": "stream",
     "text": [
      "Oh s, we have heard about you! Come and get yourself familiar.\n",
      "I am sure you are aware that there has been a beast attacking our village.\n",
      "We need you to go into the cave and slay that beast!\n"
     ]
    },
    {
     "name": "stdin",
     "output_type": "stream",
     "text": [
      "Will you go to the cave and slay the beast?\n",
      "(Yes or No)\n",
      ">  s\n"
     ]
    },
    {
     "name": "stdout",
     "output_type": "stream",
     "text": [
      "Anyways, you are going, but you never really told us what you are?\n"
     ]
    },
    {
     "name": "stdin",
     "output_type": "stream",
     "text": [
      "Choose your class (#):\n",
      "1) Knight\n",
      "2) Wizard\n",
      ">  s\n"
     ]
    },
    {
     "name": "stdout",
     "output_type": "stream",
     "text": [
      "You are just a villager? The prophecy was a lie then. Anyways...\n",
      "To...\n",
      "Be...\n",
      "Continue...\n"
     ]
    }
   ],
   "source": [
    "#weaponList = {\"Weapon_1\": \"Greatsword\"}, {\"Weapon_2\": \"Longsword\"}, {\"Weapon_3\": \"Tree Branch\"}}\n",
    "\n",
    "weaponList = ['Greatswordd', 'Longsword', 'Tree Branch', 'Shortsword', 'Cosmic Staff', 'Astral Staff', 'Horror Staff', 'Backyard Stick']\n",
    "with open('Weapons_list.json', 'w') as file:\n",
    "    json.dump(weaponList, file)\n",
    "\n",
    "    \n",
    "print(\"Ah, a long awaited traveller to save us from the beast.\")\n",
    "Name = str(input(\"Who are you, young lad?\\n> \"))\n",
    "print(\"Oh \"+ Name + \", we have heard about you! Come and get yourself familiar.\")\n",
    "print(\"I am sure you are aware that there has been a beast attacking our village.\")\n",
    "print(\"We need you to go into the cave and slay that beast!\")\n",
    "\n",
    "#Player will answer Yes or No, but the game still continues\n",
    "Player_YN = input(\"Will you go to the cave and slay the beast?\\n(Yes or No)\\n> \")\n",
    "\n",
    "if (Player_YN == 'y') or (Player_YN == 'yes') or (Player_YN == 'Yes'):\n",
    "    print(\"You are perfect for the job.\")\n",
    "elif (Player_YN == 'n') or (Player_YN == 'no') or (Player_YN == 'No'):\n",
    "    print(\"Qualified or not, you are going to slay the beast!\")\n",
    "    \n",
    "print(\"Anyways, you are going, but you never really told us what you are?\")\n",
    "#User selects class and this will update class\n",
    "ClassType = str(input(\"Choose your class (#):\\n1) Knight\\n2) Wizard\\n> \"))\n",
    "\n",
    "with open('Weapons_list.json', \"r\") as file:\n",
    "    data = json.load(file)\n",
    "\n",
    "if ClassType == '1':\n",
    "    Class = Knight\n",
    "    #health = None\n",
    "    #damage = None\n",
    "    print(\"Hmm, then where is your sword? Well, we have a collection you can choose from.\")\n",
    "    Weap_Select = input(\"Select weapon (#):\\n1) Greatsword\\n2) Longsword\\n3) Tree Branch\\n4) Shortsword\\n> \")\n",
    "    try:\n",
    "        Select = int(Weap_Select) - 1 ## Used to shift the correction since the list goes 0 - 7\n",
    "        Weapons = data[Select]\n",
    "    except:\n",
    "        Weapons = data[3]\n",
    "    #with open('Player.json', \"w\") as file:\n",
    "    #    json.dump(Weapons, file)\n",
    "    Player = Knight(Name, Weapons, Class)\n",
    "    print(\"'You have obtained: \" + Weapons + \"'\")\n",
    "    print(\"Perfect selection,\", str(Player.name) + \". It is a mighty sharp weapon.\")\n",
    "elif ClassType == '2':\n",
    "    Class = Wizard\n",
    "    #health = None\n",
    "    #damage = None\n",
    "    print(\"Hmm, then where is your staff? Well, we have a collection you can choose from.\")\n",
    "    Weap_Select = input(\"Select weapon (#):\\n1) Cosmic Staff\\n2) Astral Staff\\n3) Horror Staff\\n4) Backyard Stick\\n> \")\n",
    "    try:\n",
    "        Select = int(Weap_Select) + 3\n",
    "        Weapons = data[Select]\n",
    "    except:\n",
    "        Weapons = data[7]\n",
    "    #with open('Player.json', \"w\") as file:\n",
    "    #    json.dump(Weapons, file)\n",
    "    Player = Wizard(Name, Weapons, Class)\n",
    "    print(\"'You have obtained: \" + Weapons + \"'\")\n",
    "    print(\"Great selection,\", str(Player.name) + \". You can touch the universe.\")\n",
    "else:\n",
    "    print(\"You are just a villager? The prophecy was a lie then. Anyways...\")\n",
    "    health = Rand_Num() * 10\n",
    "    damage = (Rand_Num() * 2) - 5\n",
    "    Weapons = 'Fists'\n",
    "    Class = Hooman\n",
    "    Player = Hooman(Name, health, Weapons, damage)\n",
    "        \n",
    "with open('Player.json', \"w\") as file:\n",
    "        json.dump(Weapons, file)\n",
    "\n",
    "\n",
    "print(\"To...\")\n",
    "print(\"Be...\")\n",
    "print(\"Continue...\")\n",
    "#Create a monster to start fighting\n",
    "name = None\n",
    "health = None\n",
    "damage = Rand_Num() #Ever changing\n",
    "weapon = None\n",
    "Monster = Enemy(name, health, damage, weapon)"
   ]
  },
  {
   "cell_type": "code",
   "execution_count": 82,
   "id": "79bdf52d-f8cf-4813-bf58-edaef3c29daa",
   "metadata": {
    "tags": []
   },
   "outputs": [
    {
     "name": "stdout",
     "output_type": "stream",
     "text": [
      "('s', 'Horror Staff', 125, 20, <class '__main__.Wizard'>)\n"
     ]
    }
   ],
   "source": [
    "print((Player.name, Player.weapon, Player.health, Player.damage, Player.class_))\n",
    "#Prints out the results of the classes"
   ]
  },
  {
   "cell_type": "code",
   "execution_count": 84,
   "id": "3e9291c8-e86f-482d-a37d-2e667ca01f8f",
   "metadata": {
    "tags": []
   },
   "outputs": [
    {
     "name": "stdout",
     "output_type": "stream",
     "text": [
      "(250, 'Shrek', 13, 'Club')\n"
     ]
    }
   ],
   "source": [
    "print((Monster.health, Monster.name, Monster.damage, Monster.weapon))\n",
    "#Prints "
   ]
  },
  {
   "cell_type": "code",
   "execution_count": null,
   "id": "7b6a0f15-b71d-475a-af29-37188cc80ea1",
   "metadata": {},
   "outputs": [],
   "source": [
    "print(\"You started walking away from the village and towards the cave.\\nThe air is cold and you start to freel strange.\")\n",
    "print(\"You encountered\", Monster.name + \"! You grip your \" + Weapons + \" and ready yourself for a fight!\")\n",
    "print(\"---------------------\")\n",
    "print((Monster.health, Monster.name, Monster.damage, Monster.weapon))\n",
    "print(\"---------------------\")\n",
    "\n",
    "#items = {{\"HP\":\"Apple\", \"Heal\":15}, {\"HP\":\"Orange\", \"Heal\":10}}\n",
    "#player receives damage\n",
    "print(\"The monster takes a swing at you. You felt a knockback.\")\n",
    "Player.health = Player.health - Monster.damage\n",
    "print(\"'You received \" + str(Monster.damage) + \" damage from monster.'\")\n",
    "print(\"Player HP: \" + str(Player.health))\n",
    "print(\"You stood your ground and started to swing!\")\n",
    "\n",
    "while Player.health > 0 and Monster.health > 0:\n",
    "    Player.attack(Monster)\n",
    "    if Monster.health <= 0:\n",
    "        print(\"You have defeated\", Monster.name +\". You feel powerful and the village can live worry-free!\")\n",
    "        break\n",
    "    Monster.attack(Player)\n",
    "    if Player.health <= 0:\n",
    "        print(\"You deaded...gitgud\")\n",
    "        break\n",
    "    if Player.health < 100 and Player.health > 75:\n",
    "        Item_select = input(\"Select healing consumable to regain health and continue fighting.\\n1) Apple\\n2) Orange\")"
   ]
  },
  {
   "cell_type": "code",
   "execution_count": null,
   "id": "e896b025-8502-4a4a-b036-828dc7a88dbe",
   "metadata": {
    "tags": []
   },
   "outputs": [],
   "source": [
    "\n",
    "#Battle Test Code \n",
    "name = None\n",
    "health = None\n",
    "damage = Rand_Num() #Ever changing\n",
    "weapon = None\n",
    "Monster = Enemy(name, health, damage, weapon)\n",
    "\n",
    "while Player.health > 0 and Monster.health > 0:\n",
    "    Player.attack(Monster)\n",
    "    if Monster.health <= 0:\n",
    "        print(\"You have defeated\", Monster.name +\". You feel powerful and the village can live worry-free!\")\n",
    "        break\n",
    "    Monster.attack(Player)\n",
    "    if Player.health <= 0:\n",
    "        print(\"You died... game over!\")\n",
    "        break\n"
   ]
  },
  {
   "cell_type": "code",
   "execution_count": null,
   "id": "04445d48-e485-47eb-850a-b8c96a031bd2",
   "metadata": {
    "tags": []
   },
   "outputs": [],
   "source": [
    "#Test cell\n",
    "\n",
    "import json\n",
    "tester = ['$', '@', '!']\n",
    "with open('tester.json', 'w') as file:\n",
    "    json.dump(tester, file)\n",
    "with open('tester.json', \"r\") as file:\n",
    "    data = json.load(file)\n",
    "xy = str(input(\"Select: 0, 1, 2\"))\n",
    "\n",
    "if xy == '1':\n",
    "    w = data[0]\n",
    "    print(w)\n",
    "#elif xy == '4':\n",
    " #   w = data[1]\n",
    "  #  print(data[1])\n",
    "else:\n",
    "    w = data[2]\n",
    "    print(data[2])\n",
    "with open('select.json', \"w\") as file:\n",
    "    json.dump(w, file)"
   ]
  },
  {
   "cell_type": "code",
   "execution_count": null,
   "id": "af419f50-e26f-4a35-8104-0bcb830d868a",
   "metadata": {
    "tags": []
   },
   "outputs": [],
   "source": [
    "#Test for roll dice random damage dealer\n",
    "def Damage():\n",
    "    enemy = 100\n",
    "    dmg_taken = enemy - Rand_Num()\n",
    "    return dmg_taken\n",
    "print(Damage())"
   ]
  },
  {
   "cell_type": "code",
   "execution_count": 85,
   "id": "5062a1d8-df77-40d1-bdb0-d628cf725b04",
   "metadata": {},
   "outputs": [
    {
     "name": "stdin",
     "output_type": "stream",
     "text": [
      " 1\n"
     ]
    },
    {
     "name": "stdout",
     "output_type": "stream",
     "text": [
      "Weapon: Longsword \n",
      "Damage: 15\n"
     ]
    }
   ],
   "source": [
    "#Test cell\n",
    "di = {'Weapon1' : 'Longsword', 'Damage1' : 15, 'Weapon' : 'Shortsword', 'Damage' : 10}\n",
    "sel = input(str())\n",
    "if sel == '1':\n",
    "    print(\"Weapon:\", di.get('Weapon1'),\"\\nDamage:\", di.get('Damage1'))\n",
    "else:\n",
    "    print(\"Weapon:\", di.get('Weapon'),\"\\nDamage:\", di.get('Damage'))"
   ]
  },
  {
   "cell_type": "code",
   "execution_count": 86,
   "id": "0a9bcbed-80b0-4a4b-97fc-2d96bba192f1",
   "metadata": {
    "tags": []
   },
   "outputs": [
    {
     "name": "stdin",
     "output_type": "stream",
     "text": [
      " Orange\n"
     ]
    },
    {
     "name": "stdout",
     "output_type": "stream",
     "text": [
      "False\n",
      "False\n"
     ]
    }
   ],
   "source": [
    "#Test code\n",
    "\n",
    "items = ({\"HP\":\"Apple\", \"Heal\":15}, {\"HP\":\"Orange\", \"Heal\":10})\n",
    "check = input()\n",
    "def itemz():\n",
    "    item = [\"HP\"]\n",
    "\n",
    "for i in items:\n",
    "    check = itemz()\n",
    "    if check in items:\n",
    "        print(\"True\")\n",
    "    else:\n",
    "        print(\"False\")"
   ]
  },
  {
   "cell_type": "code",
   "execution_count": null,
   "id": "d6e40d72-3884-4131-bfce-1602e1936b18",
   "metadata": {},
   "outputs": [],
   "source": [
    "for x in range(3):\n",
    "    Weapon_In = input(str(\"Insert more weapons at least real ones:\\n> \"))\n",
    "    \n",
    "with open('Weapons_list.json', 'r+') as file:\n",
    "    json.dump(Weapon_In, file)"
   ]
  },
  {
   "cell_type": "code",
   "execution_count": null,
   "id": "16be03d5-1b1e-4615-a14e-2188dd478eac",
   "metadata": {},
   "outputs": [],
   "source": []
  }
 ],
 "metadata": {
  "kernelspec": {
   "display_name": "Python 3 (ipykernel)",
   "language": "python",
   "name": "python3"
  },
  "language_info": {
   "codemirror_mode": {
    "name": "ipython",
    "version": 3
   },
   "file_extension": ".py",
   "mimetype": "text/x-python",
   "name": "python",
   "nbconvert_exporter": "python",
   "pygments_lexer": "ipython3",
   "version": "3.11.5"
  }
 },
 "nbformat": 4,
 "nbformat_minor": 5
}
